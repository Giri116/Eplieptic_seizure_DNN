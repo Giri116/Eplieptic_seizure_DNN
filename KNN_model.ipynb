{
 "cells": [
  {
   "cell_type": "code",
   "execution_count": 2,
   "id": "e8836737",
   "metadata": {},
   "outputs": [],
   "source": [
    "import pandas as pd\n",
    "import numpy as np\n",
    "from sklearn.model_selection import train_test_split\n",
    "from sklearn.neighbors import KNeighborsClassifier\n",
    "from sklearn.preprocessing import StandardScaler\n",
    "from sklearn.metrics import accuracy_score, confusion_matrix, classification_report, r2_score\n",
    "import os"
   ]
  },
  {
   "cell_type": "code",
   "execution_count": 3,
   "id": "c87993cf",
   "metadata": {},
   "outputs": [
    {
     "data": {
      "text/plain": [
       "['abnormal01_aaaaabdo_s003_t000.edf.csv',\n",
       " 'abnormal02_aaaaaddm_s006_t000.edf.csv',\n",
       " 'abnormal03_aaaaadeu_s002_t000.edf.csv',\n",
       " 'abnormal04_aaaaadkb_s002_t000.edf.csv',\n",
       " 'abnormal06_aaaaagsc_s006_t001.edf.csv',\n",
       " 'abnormal07_aaaaagvx_s002_t000.edf.csv',\n",
       " 'abnormal08_aaaaagvx_s003_t001.edf.csv',\n",
       " 'abnormal_aaaaabuv_s002_t000.edf.csv',\n",
       " 'abnornal05_aaaaagsc_s003_t001.edf.csv']"
      ]
     },
     "execution_count": 3,
     "metadata": {},
     "output_type": "execute_result"
    }
   ],
   "source": [
    "ps_files = os.listdir(os.path.join(os.getcwd(),'Datasets','Abnormal'))\n",
    "ps_files"
   ]
  },
  {
   "cell_type": "code",
   "execution_count": 4,
   "id": "8433d368",
   "metadata": {},
   "outputs": [
    {
     "data": {
      "text/plain": [
       "['normal01_aaaaacad_s003_t000.edf.csv',\n",
       " 'normal02_aaaaacby_s004_t000.edf.csv',\n",
       " 'normal03_aaaaadjk_s002_t000.edf.csv',\n",
       " 'normal04_aaaaadsm_s002_t001.edf.csv',\n",
       " 'normal_aaaaaayx_s002_t000.edf.csv']"
      ]
     },
     "execution_count": 4,
     "metadata": {},
     "output_type": "execute_result"
    }
   ],
   "source": [
    "ng_files = os.listdir(os.path.join(os.getcwd(),'Datasets','Normal'))\n",
    "ng_files"
   ]
  },
  {
   "cell_type": "code",
   "execution_count": 9,
   "id": "e01b171a",
   "metadata": {},
   "outputs": [],
   "source": [
    "\n",
    "abnormal_dfs = [pd.read_csv(f\"{os.path.join(os.getcwd(),'Datasets','Abnormal',ps_files[i])}\") for i in range(0, 8)]\n",
    "normal_dfs = [pd.read_csv(f\"{os.path.join(os.getcwd(),'Datasets','Normal',ng_files[i])}\") for i in range(0, 4)]\n",
    "train_df = pd.concat(abnormal_dfs + normal_dfs)\n",
    "\n",
    "train_df['label'] = [1] * (len(train_df) - len(normal_dfs[0])*4) + [0] * (len(normal_dfs[0])*4)\n",
    "\n",
    "X = train_df.drop(columns=['label'])\n",
    "y = train_df['label']\n",
    "\n",
    "X = X.fillna(X.mean())\n",
    "X = X.dropna()\n",
    "y = y.loc[X.index] \n",
    "\n",
    "scaler = StandardScaler()\n",
    "X_scaled = scaler.fit_transform(X)\n",
    "\n",
    "y = y[:len(X)]\n",
    "\n",
    "X_train, X_val, y_train, y_val = train_test_split(X_scaled, y, test_size=0.2, random_state=42)\n",
    "\n",
    "knn = KNeighborsClassifier(n_neighbors=5)\n",
    "knn.fit(X_train, y_train)\n",
    "\n",
    "y_pred = knn.predict(X_val)"
   ]
  },
  {
   "cell_type": "code",
   "execution_count": 14,
   "id": "d6cc1f57",
   "metadata": {},
   "outputs": [
    {
     "name": "stdout",
     "output_type": "stream",
     "text": [
      "Accuracy: 0.6438676942838792\n",
      "Classification Report:\n",
      "               precision    recall  f1-score   support\n",
      "\n",
      "           0       0.42      0.26      0.32    251600\n",
      "           1       0.70      0.83      0.76    526900\n",
      "\n",
      "    accuracy                           0.64    778500\n",
      "   macro avg       0.56      0.54      0.54    778500\n",
      "weighted avg       0.61      0.64      0.62    778500\n",
      "\n"
     ]
    },
    {
     "data": {
      "image/png": "[encoded data removed]",
      "text/plain": [
       "<Figure size 640x480 with 2 Axes>"
      ]
     },
     "metadata": {},
     "output_type": "display_data"
    },
    {
     "name": "stdout",
     "output_type": "stream",
     "text": [
      "R² Score: -0.6281325913847715\n"
     ]
    }
   ],
   "source": [
    "import matplotlib.pyplot as plt\n",
    "import seaborn as sns\n",
    "\n",
    "# Accuracy and classification report\n",
    "print(\"Accuracy:\", accuracy_score(y_val, y_pred))\n",
    "print(\"Classification Report:\\n\", classification_report(y_val, y_pred))\n",
    "\n",
    "# Confusion matrix\n",
    "conf_mat = confusion_matrix(y_val, y_pred)\n",
    "sns.heatmap(conf_mat, annot=True, fmt='d', cmap='Blues')\n",
    "plt.xlabel(\"Predicted\")\n",
    "plt.ylabel(\"Actual\")\n",
    "plt.title(\"Confusion Matrix\")\n",
    "plt.savefig('Plots\\\\KNN_confusion_matrix.png', bbox_inches='tight', dpi=500)\n",
    "plt.show()\n",
    "\n",
    "# R² Score\n",
    "r2 = r2_score(y_val, y_pred)\n",
    "print(\"R² Score:\", r2)\n"
   ]
  },
  {
   "cell_type": "markdown",
   "id": "cd8d3c04",
   "metadata": {},
   "source": [
    "Accuracy: 0.6438676942838792\n",
    "Classification Report:\n",
    "               precision    recall  f1-score   support\n",
    "\n",
    "           0       0.42      0.26      0.32    251600\n",
    "           1       0.70      0.83      0.76    526900\n",
    "\n",
    "    accuracy                           0.64    778500\n",
    "   macro avg       0.56      0.54      0.54    778500\n",
    "weighted avg       0.61      0.64      0.62    778500\n",
    "\n",
    "R² Score: -0.6281325913847715"
   ]
  }
 ],
 "metadata": {
  "kernelspec": {
   "display_name": "Epilepsy",
   "language": "python",
   "name": "python3"
  },
  "language_info": {
   "codemirror_mode": {
    "name": "ipython",
    "version": 3
   },
   "file_extension": ".py",
   "mimetype": "text/x-python",
   "name": "python",
   "nbconvert_exporter": "python",
   "pygments_lexer": "ipython3",
   "version": "3.12.10"
  }
 },
 "nbformat": 4,
 "nbformat_minor": 5
}
